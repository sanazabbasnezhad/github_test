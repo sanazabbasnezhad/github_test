{
 "cells": [
  {
   "cell_type": "code",
   "execution_count": 140,
   "metadata": {},
   "outputs": [],
   "source": [
    "#مرتب سازی داده ها\n",
    "import pandas as pd\n",
    "import numpy as np \n",
    "import matplotlib.pyplot as plt \n",
    "from scipy import stats\n",
    "\n",
    "data=pd.read_excel(\"dataset.xlsx\")\n",
    "\n",
    "data.describe()\n",
    "data=data.drop(data.iloc[:,0:2],axis=1)\n",
    "data.describe()\n",
    "mark=data.iloc[:,[9,10,11,]]\n",
    "mark.columns=[\"a\",\"b\",\"c\"]\n",
    "depression=data.iloc[:,[46,48,53,56,59,60,64]]\n",
    "depression.columns=[\"e\",\"f\",\"g\",\"h\",\"i\",\"j\",\"k\"]\n",
    "mark=mark.dropna()\n",
    "depression=depression.dropna()\n",
    "merge_data=pd.concat([mark,depression],axis=0)\n",
    "merge_data=merge_data.dropna()"
   ]
  },
  {
   "cell_type": "code",
   "execution_count": 141,
   "metadata": {},
   "outputs": [],
   "source": [
    "mark[\"mark_score\"]=(mark[\"a\"]+mark[\"b\"]-mark[\"c\"])/3\n",
    "depression[\"depression_score\"]=(depression[\"e\"]+depression[\"f\"]+depression[\"g\"]+depression[\"h\"]+depression[\"i\"]+depression[\"j\"]+depression[\"k\"])/7"
   ]
  },
  {
   "cell_type": "code",
   "execution_count": 142,
   "metadata": {},
   "outputs": [
    {
     "name": "stdout",
     "output_type": "stream",
     "text": [
      "                            OLS Regression Results                            \n",
      "==============================================================================\n",
      "Dep. Variable:       depression_score   R-squared:                       0.068\n",
      "Model:                            OLS   Adj. R-squared:                  0.063\n",
      "Method:                 Least Squares   F-statistic:                     12.91\n",
      "Date:                Tue, 14 Jan 2025   Prob (F-statistic):           0.000424\n",
      "Time:                        12:12:13   Log-Likelihood:                -193.71\n",
      "No. Observations:                 178   AIC:                             391.4\n",
      "Df Residuals:                     176   BIC:                             397.8\n",
      "Df Model:                           1                                         \n",
      "Covariance Type:            nonrobust                                         \n",
      "==============================================================================\n",
      "                 coef    std err          t      P>|t|      [0.025      0.975]\n",
      "------------------------------------------------------------------------------\n",
      "const          0.8141      0.101      8.029      0.000       0.614       1.014\n",
      "mark_score     0.2246      0.063      3.593      0.000       0.101       0.348\n",
      "==============================================================================\n",
      "Omnibus:                       10.972   Durbin-Watson:                   1.967\n",
      "Prob(Omnibus):                  0.004   Jarque-Bera (JB):                7.633\n",
      "Skew:                           0.379   Prob(JB):                       0.0220\n",
      "Kurtosis:                       2.326   Cond. No.                         3.94\n",
      "==============================================================================\n",
      "\n",
      "Notes:\n",
      "[1] Standard Errors assume that the covariance matrix of the errors is correctly specified.\n"
     ]
    }
   ],
   "source": [
    "#رگرسیون\n",
    "import pandas as pd\n",
    "import statsmodels.api as sm\n",
    "\n",
    "mark_scores = mark.loc[:179, 'mark_score']\n",
    "depression_scores = depression.loc[:179, 'depression_score']\n",
    "\n",
    "mark1_scores = sm.add_constant(mark_scores)\n",
    "\n",
    "model = sm.OLS(depression_scores, mark1_scores).fit()\n",
    "\n",
    "# چاپ خلاصهٔ رگرسیون\n",
    "print(model.summary())"
   ]
  },
  {
   "cell_type": "code",
   "execution_count": 143,
   "metadata": {},
   "outputs": [
    {
     "name": "stdout",
     "output_type": "stream",
     "text": [
      "t:\n",
      "t-statistic: 3.59278738305853\n",
      "p-value: 0.000424400495103758\n",
      "khata: 0.06252632143205246\n",
      "فرض صفر رد می شود\n"
     ]
    },
    {
     "name": "stderr",
     "output_type": "stream",
     "text": [
      "C:\\Users\\ASUS\\AppData\\Local\\Temp\\ipykernel_1948\\48436960.py:8: FutureWarning: Series.__getitem__ treating keys as positions is deprecated. In a future version, integer keys will always be treated as labels (consistent with DataFrame behavior). To access a value by position, use `ser.iloc[pos]`\n",
      "  print(\"t-statistic:\", t_values[1])\n",
      "C:\\Users\\ASUS\\AppData\\Local\\Temp\\ipykernel_1948\\48436960.py:9: FutureWarning: Series.__getitem__ treating keys as positions is deprecated. In a future version, integer keys will always be treated as labels (consistent with DataFrame behavior). To access a value by position, use `ser.iloc[pos]`\n",
      "  print(\"p-value:\", p_values[1])\n",
      "C:\\Users\\ASUS\\AppData\\Local\\Temp\\ipykernel_1948\\48436960.py:10: FutureWarning: Series.__getitem__ treating keys as positions is deprecated. In a future version, integer keys will always be treated as labels (consistent with DataFrame behavior). To access a value by position, use `ser.iloc[pos]`\n",
      "  print(\"khata:\", bse[1])\n",
      "C:\\Users\\ASUS\\AppData\\Local\\Temp\\ipykernel_1948\\48436960.py:14: FutureWarning: Series.__getitem__ treating keys as positions is deprecated. In a future version, integer keys will always be treated as labels (consistent with DataFrame behavior). To access a value by position, use `ser.iloc[pos]`\n",
      "  if p_values[1] < alpha:\n"
     ]
    }
   ],
   "source": [
    " #ازمون تی رگرسیون \n",
    "t_values = model.tvalues\n",
    "p_values = model.pvalues\n",
    "bse = model.bse\n",
    "\n",
    "print(\"t:\")\n",
    "\n",
    "print(\"t-statistic:\", t_values[1])\n",
    "print(\"p-value:\", p_values[1])\n",
    "print(\"khata:\", bse[1])\n",
    "\n",
    "# نتایج\n",
    "alpha = 0.05\n",
    "if p_values[1] < alpha:\n",
    "   print(\"فرض صفر رد می شود\")\n",
    "else:\n",
    "   print(\"فرض صفر رد نمی شود \")"
   ]
  },
  {
   "cell_type": "code",
   "execution_count": 144,
   "metadata": {},
   "outputs": [
    {
     "name": "stdout",
     "output_type": "stream",
     "text": [
      "Test statistic: 12.908121179864553\n",
      "P-value: 0.0004244004951037574\n",
      "فرض صفر رد می شود\n"
     ]
    },
    {
     "name": "stderr",
     "output_type": "stream",
     "text": [
      "c:\\Users\\ASUS\\AppData\\Local\\Programs\\Python\\Python312\\Lib\\site-packages\\statsmodels\\tsa\\tsatools.py:162: FutureWarning: The behavior of array concatenation with empty entries is deprecated. In a future version, this will no longer exclude empty items when determining the result dtype. To retain the old behavior, exclude the empty entries before the concat operation.\n",
      "  x = pd.concat(x[::order], axis=1)\n"
     ]
    }
   ],
   "source": [
    "#ازمون اف رگرسیون\n",
    "simple_model = sm.OLS(depression_scores, sm.add_constant(pd.Series([1] * len(depression_scores), index=depression_scores.index))).fit()\n",
    "\n",
    "f_test_result = model.compare_f_test(simple_model)\n",
    "\n",
    "# نمایش نتایج آزمون F\n",
    "print(f'Test statistic: {f_test_result[0]}')  # آماره آزمون\n",
    "print(f'P-value: {f_test_result[1]}')          # مقدار P\n",
    "\n",
    "alpha = 0.05\n",
    "\n",
    "if f_test_result[1] < alpha:\n",
    "    print(\"فرض صفر رد می شود\")\n",
    "\n",
    "else:\n",
    "    print(\" (پذیرش فرض صفر).\")"
   ]
  },
  {
   "cell_type": "code",
   "execution_count": 145,
   "metadata": {},
   "outputs": [
    {
     "name": "stdout",
     "output_type": "stream",
     "text": [
      "r2 = 0.13570991417544376\n"
     ]
    },
    {
     "name": "stderr",
     "output_type": "stream",
     "text": [
      "C:\\Users\\ASUS\\AppData\\Local\\Temp\\ipykernel_1948\\2361043444.py:21: DeprecationWarning: Conversion of an array with ndim > 0 to a scalar is deprecated, and will error in future. Ensure you extract a single element from your array before performing this operation. (Deprecated NumPy 1.25.)\n",
      "  x_grid = np.arange(min(x), max(x), 0.1).reshape(-1, 1)\n"
     ]
    },
    {
     "data": {
      "image/png": "[encoded data removed]",
      "text/plain": [
       "<Figure size 640x480 with 1 Axes>"
      ]
     },
     "metadata": {},
     "output_type": "display_data"
    }
   ],
   "source": [
    "import numpy as np\n",
    "from sklearn.model_selection import train_test_split\n",
    "from sklearn.preprocessing import PolynomialFeatures\n",
    "from sklearn.linear_model import LinearRegression\n",
    "from sklearn.metrics import r2_score\n",
    "\n",
    "x = mark.loc[0:179, 'mark_score'].values.reshape(-1, 1)\n",
    "y = depression.loc[0:179, 'depression_score'].values.reshape(-1, 1)\n",
    "\n",
    "x_train, x_test, y_train, y_test = train_test_split(x, y, test_size=0.2, random_state=0)\n",
    "\n",
    "poly = PolynomialFeatures(degree=2)\n",
    "x_poly_train = poly.fit_transform(x_train)\n",
    "x_poly_test = poly.transform(x_test)\n",
    "\n",
    "model = LinearRegression()\n",
    "model.fit(x_poly_train, y_train)\n",
    "\n",
    "y_pred = model.predict(x_poly_test)\n",
    "print(\"r2 =\", r2_score(y_test, y_pred))\n",
    "x_grid = np.arange(min(x), max(x), 0.1).reshape(-1, 1) \n",
    "x_grid_poly = poly.transform(x_grid)  \n",
    "y_grid_pred = model.predict(x_grid_poly)  \n",
    "plt.scatter(x_train, y_train, color='blue', label='Train Data')\n",
    "plt.scatter(x_test, y_test, color='red', label='Test Data')\n",
    "plt.plot(x_grid, y_grid_pred, color='green', label='Polynomial Regression')\n",
    "plt.title('Polynomial Regression Fit')\n",
    "plt.xlabel('Mark Score')\n",
    "plt.ylabel('Depression Score')\n",
    "plt.legend()\n",
    "plt.show()\n"
   ]
  },
  {
   "cell_type": "code",
   "execution_count": 146,
   "metadata": {},
   "outputs": [
    {
     "name": "stdout",
     "output_type": "stream",
     "text": [
      "r2= 0.10199706224427973\n"
     ]
    }
   ],
   "source": [
    "#رگرسیون خطی\n",
    "x=mark.loc[0:179,'mark_score'].values.reshape(-1,1)\n",
    "y=depression.loc[0:179,'depression_score'].values.reshape(-1,1)\n",
    "from sklearn.model_selection import train_test_split\n",
    "x_train,x_test,y_train,y_test=train_test_split(x,y,test_size=0.2,random_state=0)\n",
    "from sklearn import linear_model\n",
    "model=linear_model.LinearRegression()\n",
    "model.fit(x_train,y_train)\n",
    "y_pred=model.predict(x_test)\n",
    "from sklearn.metrics import r2_score\n",
    "print(\"r2=\",r2_score(y_test,y_pred))\n"
   ]
  },
  {
   "cell_type": "code",
   "execution_count": 147,
   "metadata": {},
   "outputs": [
    {
     "data": {
      "image/png": "[encoded data removed]",
      "text/plain": [
       "<Figure size 640x480 with 1 Axes>"
      ]
     },
     "metadata": {},
     "output_type": "display_data"
    }
   ],
   "source": [
    "plt.scatter(y_test,y_pred,color=\"red\")\n",
    "x=np.linspace(0,5,100)\n",
    "y=x\n",
    "plt.plot(x,y,color=\"blue\")\n",
    "plt.show()"
   ]
  },
  {
   "cell_type": "code",
   "execution_count": 148,
   "metadata": {},
   "outputs": [],
   "source": [
    "from transformers import pipeline"
   ]
  },
  {
   "cell_type": "code",
   "execution_count": 149,
   "metadata": {},
   "outputs": [],
   "source": [
    "\n",
    "from sklearn.preprocessing import PolynomialFeatures"
   ]
  },
  {
   "cell_type": "code",
   "execution_count": 150,
   "metadata": {},
   "outputs": [],
   "source": [
    "from sklearn.linear_model import LinearRegression"
   ]
  },
  {
   "cell_type": "code",
   "execution_count": 151,
   "metadata": {},
   "outputs": [
    {
     "name": "stdout",
     "output_type": "stream",
     "text": [
      "افسردگی     high  low\n",
      "نمره محوری           \n",
      "high           4   13\n",
      "low            5  157\n"
     ]
    }
   ],
   "source": [
    "#جدول پیشایندی \n",
    "def categorize_score(score):\n",
    "    return \"low\" if score <2.5 else \"high\"\n",
    "\n",
    "mark['score_category'] = mark['mark_score'].apply(categorize_score)\n",
    "\n",
    "\n",
    "depression['depression_category'] = depression['depression_score'].apply(categorize_score)\n",
    "\n",
    "\n",
    "crosstab_result = pd.crosstab(mark['score_category'], depression['depression_category'])\n",
    "\n",
    "\n",
    "crosstab_result.index.name = 'نمره محوری'\n",
    "crosstab_result.columns.name = 'افسردگی'\n",
    "print(crosstab_result)"
   ]
  },
  {
   "cell_type": "code",
   "execution_count": 152,
   "metadata": {},
   "outputs": [
    {
     "name": "stdout",
     "output_type": "stream",
     "text": [
      "\n",
      "جدول ریسک نسبی:\n",
      "low_scoreimpact_low       0.923529\n",
      "low_scoreimpact_high      1.444444\n",
      "high_scoreimpact_low      0.029412\n",
      "high_scroreimpact_high    0.444444\n",
      "Name: ریسک نسبی, dtype: float64\n"
     ]
    }
   ],
   "source": [
    "# محاسبه‌ی ریسک نسبی\n",
    "total_low_depression = crosstab_result.get('low', pd.Series()).sum()\n",
    "total_high_depression = crosstab_result.get('high', pd.Series()).sum()\n",
    "\n",
    "risk_relative = {\n",
    "    'low_scoreimpact_low': crosstab_result.get('low', pd.Series()).get('low', 0) / total_low_depression if total_low_depression > 0 else 0,\n",
    "    'low_scoreimpact_high': crosstab_result.get('low', pd.Series()).get('high', 0) / total_high_depression if total_high_depression > 0 else 0,\n",
    "    'high_scoreimpact_low': crosstab_result.get('high', pd.Series()).get('low', 0) / total_low_depression if total_low_depression > 0 else 0,\n",
    "    'high_scroreimpact_high': crosstab_result.get('high', pd.Series()).get('high', 0) / total_high_depression if total_high_depression > 0 else 0\n",
    "}\n",
    "print(\"\\nجدول ریسک نسبی:\")\n",
    "print(pd.Series(risk_relative, name='ریسک نسبی'))"
   ]
  },
  {
   "cell_type": "code",
   "execution_count": 153,
   "metadata": {},
   "outputs": [
    {
     "name": "stdout",
     "output_type": "stream",
     "text": [
      "\n",
      "جدول ریسک نسبی:\n",
      "low_depression_low      0.969136\n",
      "low_depression_high     0.030864\n",
      "high_depression_low     0.764706\n",
      "high_depression_high    0.235294\n",
      "dtype: float64\n"
     ]
    }
   ],
   "source": [
    "risk_score = {\n",
    "    'low_depression_low': crosstab_result.get('low', pd.Series()).get('low', 0) / crosstab_result.loc['low'].sum() if crosstab_result.loc['low'].sum() > 0 else 0,\n",
    "    'low_depression_high': crosstab_result.get('high', pd.Series()).get('low', 0) / crosstab_result.loc['low'].sum() if crosstab_result.loc['low'].sum() > 0 else 0,\n",
    "    'high_depression_low': crosstab_result.get('low', pd.Series()).get('high', 0) / crosstab_result.loc['high'].sum() if crosstab_result.loc['high'].sum() > 0 else 0,\n",
    "    'high_depression_high': crosstab_result.get('high', pd.Series()).get('high', 0) / crosstab_result.loc['high'].sum() if crosstab_result.loc['high'].sum() > 0 else 0\n",
    "}\n",
    "\n",
    "# نمایش نتایج\n",
    "print(\"\\nجدول ریسک نسبی:\")\n",
    "print(pd.Series(risk_score))"
   ]
  },
  {
   "cell_type": "code",
   "execution_count": 154,
   "metadata": {},
   "outputs": [
    {
     "name": "stdout",
     "output_type": "stream",
     "text": [
      "افسردگی     high  low\n",
      "نمره محوری           \n",
      "high          57   48\n",
      "low           41   33\n"
     ]
    }
   ],
   "source": [
    "mark_median = mark['mark_score'].median()\n",
    "depression_median = depression['depression_score'].median()\n",
    "\n",
    "# تابع برای دسته‌بندی بر اساس میانه\n",
    "def categorize_score(score, median):\n",
    "    return \"low\" if score < median else \"high\"\n",
    "mark['score_category'] = mark['mark_score'].apply(lambda x: categorize_score(x, mark_median))\n",
    "depression['depression_category'] = depression['depression_score'].apply(lambda x: categorize_score(x, depression_median))\n",
    "\n",
    "crosstab_result1 = pd.crosstab(mark['score_category'], depression['depression_category'])\n",
    "crosstab_result1.index.name = 'نمره محوری'\n",
    "crosstab_result1.columns.name = 'افسردگی'\n",
    "# نمایش نتیجه\n",
    "print(crosstab_result1)"
   ]
  },
  {
   "cell_type": "code",
   "execution_count": 155,
   "metadata": {},
   "outputs": [
    {
     "name": "stdout",
     "output_type": "stream",
     "text": [
      "\n",
      "جدول ریسک نسبی:\n",
      "low_scoreimpact_low       0.407407\n",
      "low_scoreimpact_high      0.489796\n",
      "high_scoreimpact_low      0.506173\n",
      "high_scroreimpact_high    0.581633\n",
      "Name: ریسک نسبی, dtype: float64\n",
      "\n",
      "جدول ریسک نسبی:\n",
      "low_depression_low      0.203704\n",
      "low_depression_high     0.253086\n",
      "high_depression_low     2.823529\n",
      "high_depression_high    3.352941\n",
      "dtype: float64\n"
     ]
    }
   ],
   "source": [
    "total_low_depression = crosstab_result1.get('low', pd.Series()).sum()\n",
    "total_high_depression = crosstab_result1.get('high', pd.Series()).sum()\n",
    "\n",
    "risk_relative = {\n",
    "    'low_scoreimpact_low': crosstab_result1.get('low', pd.Series()).get('low', 0) / total_low_depression if total_low_depression > 0 else 0,\n",
    "    'low_scoreimpact_high': crosstab_result1.get('low', pd.Series()).get('high', 0) / total_high_depression if total_high_depression > 0 else 0,\n",
    "    'high_scoreimpact_low': crosstab_result1.get('high', pd.Series()).get('low', 0) / total_low_depression if total_low_depression > 0 else 0,\n",
    "    'high_scroreimpact_high': crosstab_result1.get('high', pd.Series()).get('high', 0) / total_high_depression if total_high_depression > 0 else 0\n",
    "}\n",
    "print(\"\\nجدول ریسک نسبی:\")\n",
    "print(pd.Series(risk_relative, name='ریسک نسبی'))\n",
    "risk_score = {\n",
    "    'low_depression_low': crosstab_result1.get('low', pd.Series()).get('low', 0) / crosstab_result.loc['low'].sum() if crosstab_result.loc['low'].sum() > 0 else 0,\n",
    "    'low_depression_high': crosstab_result1.get('high', pd.Series()).get('low', 0) / crosstab_result.loc['low'].sum() if crosstab_result.loc['low'].sum() > 0 else 0,\n",
    "    'high_depression_low': crosstab_result1.get('low', pd.Series()).get('high', 0) / crosstab_result.loc['high'].sum() if crosstab_result.loc['high'].sum() > 0 else 0,\n",
    "    'high_depression_high': crosstab_result1.get('high', pd.Series()).get('high', 0) / crosstab_result.loc['high'].sum() if crosstab_result.loc['high'].sum() > 0 else 0\n",
    "}\n",
    "\n",
    "# نمایش نتایج\n",
    "print(\"\\nجدول ریسک نسبی:\")\n",
    "print(pd.Series(risk_score))"
   ]
  },
  {
   "cell_type": "code",
   "execution_count": 161,
   "metadata": {},
   "outputs": [
    {
     "name": "stdout",
     "output_type": "stream",
     "text": [
      "ریسک گرایش به افسردگی در نمره محوری بالا: 0.5428571428571428\n",
      "ریسک گرایش به افسردگی در نمره محوری پایین: 0.5540540540540541\n",
      "ریسک نسبی  بین نمره محوری بالا و پایین: 0.9797909407665505\n"
     ]
    }
   ],
   "source": [
    "a = crosstab_result1.loc['high', 'high'] \n",
    "b = crosstab_result1.loc['high', 'low']    \n",
    "c = crosstab_result1.loc['low', 'high']   \n",
    "d = crosstab_result1.loc['low', 'low']  \n",
    "total_high = a + b  \n",
    "total_low = c + d   \n",
    "# محاسبه ریسک برای هر گروه\n",
    "risk_high_depression = a / total_high if total_high > 0 else 0  # ریسک افسردگی در نمره محوری بالا\n",
    "risk_low_depression = c / total_low if total_low > 0 else 0      # ریسک افسردگی در نمره محوری پایین\n",
    "\n",
    "# محاسبه ریسک نسبی برای هر گروه\n",
    "risk_ratio_high = risk_high_depression / risk_low_depression if risk_low_depression > 0 else None\n",
    "\n",
    "# نمایش نتایج\n",
    "print(\"ریسک گرایش به افسردگی در نمره محوری بالا:\", risk_high_depression)\n",
    "print(\"ریسک گرایش به افسردگی در نمره محوری پایین:\", risk_low_depression)\n",
    "print(\"ریسک نسبی  بین نمره محوری بالا و پایین:\", risk_ratio_high)"
   ]
  },
  {
   "cell_type": "code",
   "execution_count": 157,
   "metadata": {},
   "outputs": [
    {
     "name": "stdout",
     "output_type": "stream",
     "text": [
      "                       depression_q1 depression_q2 depression_q3  \\\n",
      "Score Impact Questions                                             \n",
      "score_impact_q1                   47            70            45   \n",
      "score_impact_q2                   47            70            45   \n",
      "score_impact_q3                   47            70            45   \n",
      "\n",
      "                       depression_q4 depression_q5 depression_q6 depression_q7  \n",
      "Score Impact Questions                                                          \n",
      "score_impact_q1                   61            60            56            49  \n",
      "score_impact_q2                   61            60            56            49  \n",
      "score_impact_q3                   61            60            56            49  \n"
     ]
    }
   ],
   "source": [
    "# چدول پیشایندی \n",
    "mark = data.iloc[:, [9, 10, 11]]\n",
    "mark.columns = [\"score_impact_q1\", \"score_impact_q2\", \"score_impact_q3\"]\n",
    "mark = mark.dropna()\n",
    "depression = data.iloc[:, [46, 48, 53, 56, 59, 60, 64]]\n",
    "depression = depression.dropna()\n",
    "depression.columns = [\"depression_q1\", \"depression_q2\", \"depression_q3\", \"depression_q4\", \"depression_q5\", \"depression_q6\", \"depression_q7\"]\n",
    "\n",
    "depression_columns = ['depression_q1', 'depression_q2', 'depression_q3', 'depression_q4', 'depression_q5', \"depression_q6\", \"depression_q7\"]\n",
    "score_impact_columns = ['score_impact_q1', 'score_impact_q2', 'score_impact_q3']\n",
    "combined_table = pd.DataFrame(index=score_impact_columns, columns=depression_columns)\n",
    "for score_col in score_impact_columns:\n",
    "    for depression_col in depression_columns:\n",
    "       \n",
    "        crosstab_result = pd.crosstab(mark[score_col], depression[depression_col])\n",
    "        combined_table.loc[score_col, depression_col] = crosstab_result[1].sum()  \n",
    "\n",
    "combined_table.index.name = 'Score Impact Questions'\n",
    "print(combined_table)"
   ]
  },
  {
   "cell_type": "code",
   "execution_count": 158,
   "metadata": {},
   "outputs": [
    {
     "name": "stdout",
     "output_type": "stream",
     "text": [
      "نتایج جدول پیشایند برای score_impact_q1:\n",
      "                 depression_q1_0.0  depression_q1_1.0  depression_q1_2.0  \\\n",
      "score_impact_q1                                                            \n",
      "1.0                              4                  1                  0   \n",
      "2.0                              3                  1                  2   \n",
      "3.0                             14                  7                  5   \n",
      "4.0                             32                 21                 13   \n",
      "5.0                             42                 17                  8   \n",
      "All                             95                 47                 28   \n",
      "\n",
      "                 depression_q1_3.0  depression_q1_All  depression_q2_0.0  \\\n",
      "score_impact_q1                                                            \n",
      "1.0                              0                  5                  1   \n",
      "2.0                              1                  7                  1   \n",
      "3.0                              4                 30                  7   \n",
      "4.0                              1                 67                 12   \n",
      "5.0                              3                 70                 15   \n",
      "All                              9                179                 36   \n",
      "\n",
      "                 depression_q2_1.0  depression_q2_2.0  depression_q2_3.0  \\\n",
      "score_impact_q1                                                            \n",
      "1.0                              3                  1                  0   \n",
      "2.0                              5                  1                  0   \n",
      "3.0                             10                  7                  6   \n",
      "4.0                             30                 19                  6   \n",
      "5.0                             22                 22                 11   \n",
      "All                             70                 50                 23   \n",
      "\n",
      "                 depression_q2_All  ...  depression_q6_0.0  depression_q6_1.0  \\\n",
      "score_impact_q1                     ...                                         \n",
      "1.0                              5  ...                  4                  1   \n",
      "2.0                              7  ...                  5                  1   \n",
      "3.0                             30  ...                 10                 10   \n",
      "4.0                             67  ...                 33                 21   \n",
      "5.0                             70  ...                 30                 23   \n",
      "All                            179  ...                 82                 56   \n",
      "\n",
      "                 depression_q6_2.0  depression_q6_3.0  depression_q6_All  \\\n",
      "score_impact_q1                                                            \n",
      "1.0                              0                  0                  5   \n",
      "2.0                              1                  0                  7   \n",
      "3.0                              6                  4                 30   \n",
      "4.0                              9                  4                 67   \n",
      "5.0                             11                  6                 70   \n",
      "All                             27                 14                179   \n",
      "\n",
      "                 depression_q7_0.0  depression_q7_1.0  depression_q7_2.0  \\\n",
      "score_impact_q1                                                            \n",
      "1.0                              4                  0                  0   \n",
      "2.0                              2                  1                  2   \n",
      "3.0                             12                 10                  3   \n",
      "4.0                             28                 19                 11   \n",
      "5.0                             32                 19                  9   \n",
      "All                             78                 49                 25   \n",
      "\n",
      "                 depression_q7_3.0  depression_q7_All  \n",
      "score_impact_q1                                        \n",
      "1.0                              1                  5  \n",
      "2.0                              2                  7  \n",
      "3.0                              5                 30  \n",
      "4.0                              9                 67  \n",
      "5.0                             10                 70  \n",
      "All                             27                179  \n",
      "\n",
      "[6 rows x 35 columns]\n",
      "\n",
      "==================================================\n",
      "\n",
      "نتایج جدول پیشایند برای score_impact_q2:\n",
      "                 depression_q1_0.0  depression_q1_1.0  depression_q1_2.0  \\\n",
      "score_impact_q2                                                            \n",
      "1.0                             13                  3                  2   \n",
      "2.0                             17                 11                  7   \n",
      "3.0                             32                 14                  7   \n",
      "4.0                             19                  8                  7   \n",
      "5.0                             14                 11                  5   \n",
      "All                             95                 47                 28   \n",
      "\n",
      "                 depression_q1_3.0  depression_q1_All  depression_q2_0.0  \\\n",
      "score_impact_q2                                                            \n",
      "1.0                              1                 19                  7   \n",
      "2.0                              1                 36                  5   \n",
      "3.0                              3                 56                 10   \n",
      "4.0                              3                 37                  7   \n",
      "5.0                              1                 31                  7   \n",
      "All                              9                179                 36   \n",
      "\n",
      "                 depression_q2_1.0  depression_q2_2.0  depression_q2_3.0  \\\n",
      "score_impact_q2                                                            \n",
      "1.0                             10                  2                  0   \n",
      "2.0                             16                 14                  1   \n",
      "3.0                             24                 18                  4   \n",
      "4.0                             13                  9                  8   \n",
      "5.0                              7                  7                 10   \n",
      "All                             70                 50                 23   \n",
      "\n",
      "                 depression_q2_All  ...  depression_q6_0.0  depression_q6_1.0  \\\n",
      "score_impact_q2                     ...                                         \n",
      "1.0                             19  ...                 14                  2   \n",
      "2.0                             36  ...                 19                 14   \n",
      "3.0                             56  ...                 27                 17   \n",
      "4.0                             37  ...                 13                 15   \n",
      "5.0                             31  ...                  9                  8   \n",
      "All                            179  ...                 82                 56   \n",
      "\n",
      "                 depression_q6_2.0  depression_q6_3.0  depression_q6_All  \\\n",
      "score_impact_q2                                                            \n",
      "1.0                              2                  1                 19   \n",
      "2.0                              3                  0                 36   \n",
      "3.0                              9                  3                 56   \n",
      "4.0                              7                  2                 37   \n",
      "5.0                              6                  8                 31   \n",
      "All                             27                 14                179   \n",
      "\n",
      "                 depression_q7_0.0  depression_q7_1.0  depression_q7_2.0  \\\n",
      "score_impact_q2                                                            \n",
      "1.0                              8                  6                  2   \n",
      "2.0                             21                  7                  3   \n",
      "3.0                             25                 17                 10   \n",
      "4.0                             13                 12                  7   \n",
      "5.0                             11                  7                  3   \n",
      "All                             78                 49                 25   \n",
      "\n",
      "                 depression_q7_3.0  depression_q7_All  \n",
      "score_impact_q2                                        \n",
      "1.0                              3                 19  \n",
      "2.0                              5                 36  \n",
      "3.0                              4                 56  \n",
      "4.0                              5                 37  \n",
      "5.0                             10                 31  \n",
      "All                             27                179  \n",
      "\n",
      "[6 rows x 35 columns]\n",
      "\n",
      "==================================================\n",
      "\n",
      "نتایج جدول پیشایند برای score_impact_q3:\n",
      "                 depression_q1_0.0  depression_q1_1.0  depression_q1_2.0  \\\n",
      "score_impact_q3                                                            \n",
      "1.0                              4                  6                  4   \n",
      "2.0                             21                 10                  4   \n",
      "3.0                             29                 17                 14   \n",
      "4.0                             27                  8                  4   \n",
      "5.0                             14                  6                  2   \n",
      "All                             95                 47                 28   \n",
      "\n",
      "                 depression_q1_3.0  depression_q1_All  depression_q2_0.0  \\\n",
      "score_impact_q3                                                            \n",
      "1.0                              3                 17                  3   \n",
      "2.0                              2                 37                  7   \n",
      "3.0                              3                 63                 10   \n",
      "4.0                              1                 40                  9   \n",
      "5.0                              0                 22                  7   \n",
      "All                              9                179                 36   \n",
      "\n",
      "                 depression_q2_1.0  depression_q2_2.0  depression_q2_3.0  \\\n",
      "score_impact_q3                                                            \n",
      "1.0                              1                  3                 10   \n",
      "2.0                             14                 10                  6   \n",
      "3.0                             31                 18                  4   \n",
      "4.0                             19                  9                  3   \n",
      "5.0                              5                 10                  0   \n",
      "All                             70                 50                 23   \n",
      "\n",
      "                 depression_q2_All  ...  depression_q6_0.0  depression_q6_1.0  \\\n",
      "score_impact_q3                     ...                                         \n",
      "1.0                             17  ...                  1                  3   \n",
      "2.0                             37  ...                 17                 14   \n",
      "3.0                             63  ...                 27                 24   \n",
      "4.0                             40  ...                 23                 12   \n",
      "5.0                             22  ...                 14                  3   \n",
      "All                            179  ...                 82                 56   \n",
      "\n",
      "                 depression_q6_2.0  depression_q6_3.0  depression_q6_All  \\\n",
      "score_impact_q3                                                            \n",
      "1.0                              5                  8                 17   \n",
      "2.0                              5                  1                 37   \n",
      "3.0                             10                  2                 63   \n",
      "4.0                              3                  2                 40   \n",
      "5.0                              4                  1                 22   \n",
      "All                             27                 14                179   \n",
      "\n",
      "                 depression_q7_0.0  depression_q7_1.0  depression_q7_2.0  \\\n",
      "score_impact_q3                                                            \n",
      "1.0                              2                  4                  3   \n",
      "2.0                             14                 16                  3   \n",
      "3.0                             26                 20                 11   \n",
      "4.0                             25                  6                  5   \n",
      "5.0                             11                  3                  3   \n",
      "All                             78                 49                 25   \n",
      "\n",
      "                 depression_q7_3.0  depression_q7_All  \n",
      "score_impact_q3                                        \n",
      "1.0                              8                 17  \n",
      "2.0                              4                 37  \n",
      "3.0                              6                 63  \n",
      "4.0                              4                 40  \n",
      "5.0                              5                 22  \n",
      "All                             27                179  \n",
      "\n",
      "[6 rows x 35 columns]\n",
      "\n",
      "==================================================\n",
      "\n"
     ]
    }
   ],
   "source": [
    "mark = data.iloc[:, [9, 10, 11]]\n",
    "mark.columns = [\"score_impact_q1\", \"score_impact_q2\", \"score_impact_q3\"]\n",
    "mark = mark.dropna()\n",
    "\n",
    "depression = data.iloc[:, [46, 48, 53, 56, 59, 60, 64]]\n",
    "depression = depression.dropna()\n",
    "depression.columns = [\"depression_q1\", \"depression_q2\", \"depression_q3\", \"depression_q4\", \"depression_q5\", \"depression_q6\", \"depression_q7\"]\n",
    "\n",
    "depression_columns = ['depression_q1', 'depression_q2', 'depression_q3', 'depression_q4', 'depression_q5', \"depression_q6\", \"depression_q7\"]\n",
    "score_impact_columns = ['score_impact_q1', 'score_impact_q2', 'score_impact_q3']\n",
    "combined_results = {}\n",
    "for score_col in score_impact_columns:\n",
    "    crosstab_results = []  \n",
    "    for depression_col in depression_columns:\n",
    "        crosstab_result = pd.crosstab(mark[score_col], depression[depression_col], margins=True)\n",
    "        crosstab_result.columns = [f\"{depression_col}_{col}\" for col in crosstab_result.columns]   \n",
    "        crosstab_results.append(crosstab_result)\n",
    "    final_result = pd.concat(crosstab_results, axis=1)\n",
    "    combined_results[score_col] = final_result\n",
    "for score_col, result in combined_results.items():\n",
    "    print(f\"نتایج جدول پیشایند برای {score_col}:\")\n",
    "    print(result)\n",
    "    print(\"\\n\" + \"=\"*50 + \"\\n\")"
   ]
  },
  {
   "cell_type": "code",
   "execution_count": 159,
   "metadata": {},
   "outputs": [
    {
     "name": "stdout",
     "output_type": "stream",
     "text": [
      "t_test\n",
      "t: 3.365769022238425\n",
      "p-value: 0.0009361236991015833\n",
      "نتیجه: فرض صفر رد می‌شود (اختلاف معنادار بین میانگین نمرات mark_score و depression_score وجود دارد).\n"
     ]
    }
   ],
   "source": [
    "#ازمون برابری میانگین\n",
    "t_statistic, p_value = stats.ttest_rel(mark_scores, depression_scores)\n",
    "\n",
    "\n",
    "print(\"t_test\")\n",
    "print(\"t:\", t_statistic)\n",
    "print(\"p-value:\", p_value)\n",
    "\n",
    "# تفسیر نتایج\n",
    "alpha = 0.05\n",
    "if p_value < alpha:\n",
    "    print(\"نتیجه: فرض صفر رد می‌شود (اختلاف معنادار بین میانگین نمرات mark_score و depression_score وجود دارد).\")\n",
    "else:\n",
    "    print(\"نتیجه: فرض صفر رد نمی‌شود (اختلاف معنادار بین میانگین  نمرات mark_score و depression_score وجود ندارد).\")"
   ]
  },
  {
   "cell_type": "code",
   "execution_count": 160,
   "metadata": {},
   "outputs": [
    {
     "ename": "KeyError",
     "evalue": "'mark_score'",
     "output_type": "error",
     "traceback": [
      "\u001b[1;31m---------------------------------------------------------------------------\u001b[0m",
      "\u001b[1;31mKeyError\u001b[0m                                  Traceback (most recent call last)",
      "File \u001b[1;32mc:\\Users\\ASUS\\AppData\\Local\\Programs\\Python\\Python312\\Lib\\site-packages\\pandas\\core\\indexes\\base.py:3805\u001b[0m, in \u001b[0;36mIndex.get_loc\u001b[1;34m(self, key)\u001b[0m\n\u001b[0;32m   3804\u001b[0m \u001b[38;5;28;01mtry\u001b[39;00m:\n\u001b[1;32m-> 3805\u001b[0m     \u001b[38;5;28;01mreturn\u001b[39;00m \u001b[38;5;28;43mself\u001b[39;49m\u001b[38;5;241;43m.\u001b[39;49m\u001b[43m_engine\u001b[49m\u001b[38;5;241;43m.\u001b[39;49m\u001b[43mget_loc\u001b[49m\u001b[43m(\u001b[49m\u001b[43mcasted_key\u001b[49m\u001b[43m)\u001b[49m\n\u001b[0;32m   3806\u001b[0m \u001b[38;5;28;01mexcept\u001b[39;00m \u001b[38;5;167;01mKeyError\u001b[39;00m \u001b[38;5;28;01mas\u001b[39;00m err:\n",
      "File \u001b[1;32mindex.pyx:167\u001b[0m, in \u001b[0;36mpandas._libs.index.IndexEngine.get_loc\u001b[1;34m()\u001b[0m\n",
      "File \u001b[1;32mindex.pyx:196\u001b[0m, in \u001b[0;36mpandas._libs.index.IndexEngine.get_loc\u001b[1;34m()\u001b[0m\n",
      "File \u001b[1;32mpandas\\\\_libs\\\\hashtable_class_helper.pxi:7081\u001b[0m, in \u001b[0;36mpandas._libs.hashtable.PyObjectHashTable.get_item\u001b[1;34m()\u001b[0m\n",
      "File \u001b[1;32mpandas\\\\_libs\\\\hashtable_class_helper.pxi:7089\u001b[0m, in \u001b[0;36mpandas._libs.hashtable.PyObjectHashTable.get_item\u001b[1;34m()\u001b[0m\n",
      "\u001b[1;31mKeyError\u001b[0m: 'mark_score'",
      "\nThe above exception was the direct cause of the following exception:\n",
      "\u001b[1;31mKeyError\u001b[0m                                  Traceback (most recent call last)",
      "Cell \u001b[1;32mIn[160], line 2\u001b[0m\n\u001b[0;32m      1\u001b[0m \u001b[38;5;66;03m# همبستگی \u001b[39;00m\n\u001b[1;32m----> 2\u001b[0m d1 \u001b[38;5;241m=\u001b[39m \u001b[43mmark\u001b[49m\u001b[38;5;241;43m.\u001b[39;49m\u001b[43mloc\u001b[49m\u001b[43m[\u001b[49m\u001b[43m:\u001b[49m\u001b[38;5;241;43m179\u001b[39;49m\u001b[43m,\u001b[49m\u001b[38;5;124;43m\"\u001b[39;49m\u001b[38;5;124;43mmark_score\u001b[39;49m\u001b[38;5;124;43m\"\u001b[39;49m\u001b[43m]\u001b[49m\n\u001b[0;32m      3\u001b[0m d2 \u001b[38;5;241m=\u001b[39mdepression\u001b[38;5;241m.\u001b[39mloc[:\u001b[38;5;241m179\u001b[39m,\u001b[38;5;124m\"\u001b[39m\u001b[38;5;124mdepression_score\u001b[39m\u001b[38;5;124m\"\u001b[39m]\n\u001b[0;32m      5\u001b[0m \u001b[38;5;66;03m#print(f\"score1: {d1}\")\u001b[39;00m\n\u001b[0;32m      6\u001b[0m \u001b[38;5;66;03m#print(f\"score2: {d2}\")\u001b[39;00m\n\u001b[0;32m      7\u001b[0m \n\u001b[0;32m      8\u001b[0m \u001b[38;5;66;03m# محاسبه ضریب همبستگی\u001b[39;00m\n",
      "File \u001b[1;32mc:\\Users\\ASUS\\AppData\\Local\\Programs\\Python\\Python312\\Lib\\site-packages\\pandas\\core\\indexing.py:1184\u001b[0m, in \u001b[0;36m_LocationIndexer.__getitem__\u001b[1;34m(self, key)\u001b[0m\n\u001b[0;32m   1182\u001b[0m     \u001b[38;5;28;01mif\u001b[39;00m \u001b[38;5;28mself\u001b[39m\u001b[38;5;241m.\u001b[39m_is_scalar_access(key):\n\u001b[0;32m   1183\u001b[0m         \u001b[38;5;28;01mreturn\u001b[39;00m \u001b[38;5;28mself\u001b[39m\u001b[38;5;241m.\u001b[39mobj\u001b[38;5;241m.\u001b[39m_get_value(\u001b[38;5;241m*\u001b[39mkey, takeable\u001b[38;5;241m=\u001b[39m\u001b[38;5;28mself\u001b[39m\u001b[38;5;241m.\u001b[39m_takeable)\n\u001b[1;32m-> 1184\u001b[0m     \u001b[38;5;28;01mreturn\u001b[39;00m \u001b[38;5;28;43mself\u001b[39;49m\u001b[38;5;241;43m.\u001b[39;49m\u001b[43m_getitem_tuple\u001b[49m\u001b[43m(\u001b[49m\u001b[43mkey\u001b[49m\u001b[43m)\u001b[49m\n\u001b[0;32m   1185\u001b[0m \u001b[38;5;28;01melse\u001b[39;00m:\n\u001b[0;32m   1186\u001b[0m     \u001b[38;5;66;03m# we by definition only have the 0th axis\u001b[39;00m\n\u001b[0;32m   1187\u001b[0m     axis \u001b[38;5;241m=\u001b[39m \u001b[38;5;28mself\u001b[39m\u001b[38;5;241m.\u001b[39maxis \u001b[38;5;129;01mor\u001b[39;00m \u001b[38;5;241m0\u001b[39m\n",
      "File \u001b[1;32mc:\\Users\\ASUS\\AppData\\Local\\Programs\\Python\\Python312\\Lib\\site-packages\\pandas\\core\\indexing.py:1368\u001b[0m, in \u001b[0;36m_LocIndexer._getitem_tuple\u001b[1;34m(self, tup)\u001b[0m\n\u001b[0;32m   1366\u001b[0m \u001b[38;5;28;01mwith\u001b[39;00m suppress(IndexingError):\n\u001b[0;32m   1367\u001b[0m     tup \u001b[38;5;241m=\u001b[39m \u001b[38;5;28mself\u001b[39m\u001b[38;5;241m.\u001b[39m_expand_ellipsis(tup)\n\u001b[1;32m-> 1368\u001b[0m     \u001b[38;5;28;01mreturn\u001b[39;00m \u001b[38;5;28;43mself\u001b[39;49m\u001b[38;5;241;43m.\u001b[39;49m\u001b[43m_getitem_lowerdim\u001b[49m\u001b[43m(\u001b[49m\u001b[43mtup\u001b[49m\u001b[43m)\u001b[49m\n\u001b[0;32m   1370\u001b[0m \u001b[38;5;66;03m# no multi-index, so validate all of the indexers\u001b[39;00m\n\u001b[0;32m   1371\u001b[0m tup \u001b[38;5;241m=\u001b[39m \u001b[38;5;28mself\u001b[39m\u001b[38;5;241m.\u001b[39m_validate_tuple_indexer(tup)\n",
      "File \u001b[1;32mc:\\Users\\ASUS\\AppData\\Local\\Programs\\Python\\Python312\\Lib\\site-packages\\pandas\\core\\indexing.py:1065\u001b[0m, in \u001b[0;36m_LocationIndexer._getitem_lowerdim\u001b[1;34m(self, tup)\u001b[0m\n\u001b[0;32m   1061\u001b[0m \u001b[38;5;28;01mfor\u001b[39;00m i, key \u001b[38;5;129;01min\u001b[39;00m \u001b[38;5;28menumerate\u001b[39m(tup):\n\u001b[0;32m   1062\u001b[0m     \u001b[38;5;28;01mif\u001b[39;00m is_label_like(key):\n\u001b[0;32m   1063\u001b[0m         \u001b[38;5;66;03m# We don't need to check for tuples here because those are\u001b[39;00m\n\u001b[0;32m   1064\u001b[0m         \u001b[38;5;66;03m#  caught by the _is_nested_tuple_indexer check above.\u001b[39;00m\n\u001b[1;32m-> 1065\u001b[0m         section \u001b[38;5;241m=\u001b[39m \u001b[38;5;28;43mself\u001b[39;49m\u001b[38;5;241;43m.\u001b[39;49m\u001b[43m_getitem_axis\u001b[49m\u001b[43m(\u001b[49m\u001b[43mkey\u001b[49m\u001b[43m,\u001b[49m\u001b[43m \u001b[49m\u001b[43maxis\u001b[49m\u001b[38;5;241;43m=\u001b[39;49m\u001b[43mi\u001b[49m\u001b[43m)\u001b[49m\n\u001b[0;32m   1067\u001b[0m         \u001b[38;5;66;03m# We should never have a scalar section here, because\u001b[39;00m\n\u001b[0;32m   1068\u001b[0m         \u001b[38;5;66;03m#  _getitem_lowerdim is only called after a check for\u001b[39;00m\n\u001b[0;32m   1069\u001b[0m         \u001b[38;5;66;03m#  is_scalar_access, which that would be.\u001b[39;00m\n\u001b[0;32m   1070\u001b[0m         \u001b[38;5;28;01mif\u001b[39;00m section\u001b[38;5;241m.\u001b[39mndim \u001b[38;5;241m==\u001b[39m \u001b[38;5;28mself\u001b[39m\u001b[38;5;241m.\u001b[39mndim:\n\u001b[0;32m   1071\u001b[0m             \u001b[38;5;66;03m# we're in the middle of slicing through a MultiIndex\u001b[39;00m\n\u001b[0;32m   1072\u001b[0m             \u001b[38;5;66;03m# revise the key wrt to `section` by inserting an _NS\u001b[39;00m\n",
      "File \u001b[1;32mc:\\Users\\ASUS\\AppData\\Local\\Programs\\Python\\Python312\\Lib\\site-packages\\pandas\\core\\indexing.py:1431\u001b[0m, in \u001b[0;36m_LocIndexer._getitem_axis\u001b[1;34m(self, key, axis)\u001b[0m\n\u001b[0;32m   1429\u001b[0m \u001b[38;5;66;03m# fall thru to straight lookup\u001b[39;00m\n\u001b[0;32m   1430\u001b[0m \u001b[38;5;28mself\u001b[39m\u001b[38;5;241m.\u001b[39m_validate_key(key, axis)\n\u001b[1;32m-> 1431\u001b[0m \u001b[38;5;28;01mreturn\u001b[39;00m \u001b[38;5;28;43mself\u001b[39;49m\u001b[38;5;241;43m.\u001b[39;49m\u001b[43m_get_label\u001b[49m\u001b[43m(\u001b[49m\u001b[43mkey\u001b[49m\u001b[43m,\u001b[49m\u001b[43m \u001b[49m\u001b[43maxis\u001b[49m\u001b[38;5;241;43m=\u001b[39;49m\u001b[43maxis\u001b[49m\u001b[43m)\u001b[49m\n",
      "File \u001b[1;32mc:\\Users\\ASUS\\AppData\\Local\\Programs\\Python\\Python312\\Lib\\site-packages\\pandas\\core\\indexing.py:1381\u001b[0m, in \u001b[0;36m_LocIndexer._get_label\u001b[1;34m(self, label, axis)\u001b[0m\n\u001b[0;32m   1379\u001b[0m \u001b[38;5;28;01mdef\u001b[39;00m \u001b[38;5;21m_get_label\u001b[39m(\u001b[38;5;28mself\u001b[39m, label, axis: AxisInt):\n\u001b[0;32m   1380\u001b[0m     \u001b[38;5;66;03m# GH#5567 this will fail if the label is not present in the axis.\u001b[39;00m\n\u001b[1;32m-> 1381\u001b[0m     \u001b[38;5;28;01mreturn\u001b[39;00m \u001b[38;5;28;43mself\u001b[39;49m\u001b[38;5;241;43m.\u001b[39;49m\u001b[43mobj\u001b[49m\u001b[38;5;241;43m.\u001b[39;49m\u001b[43mxs\u001b[49m\u001b[43m(\u001b[49m\u001b[43mlabel\u001b[49m\u001b[43m,\u001b[49m\u001b[43m \u001b[49m\u001b[43maxis\u001b[49m\u001b[38;5;241;43m=\u001b[39;49m\u001b[43maxis\u001b[49m\u001b[43m)\u001b[49m\n",
      "File \u001b[1;32mc:\\Users\\ASUS\\AppData\\Local\\Programs\\Python\\Python312\\Lib\\site-packages\\pandas\\core\\generic.py:4287\u001b[0m, in \u001b[0;36mNDFrame.xs\u001b[1;34m(self, key, axis, level, drop_level)\u001b[0m\n\u001b[0;32m   4285\u001b[0m \u001b[38;5;28;01mif\u001b[39;00m axis \u001b[38;5;241m==\u001b[39m \u001b[38;5;241m1\u001b[39m:\n\u001b[0;32m   4286\u001b[0m     \u001b[38;5;28;01mif\u001b[39;00m drop_level:\n\u001b[1;32m-> 4287\u001b[0m         \u001b[38;5;28;01mreturn\u001b[39;00m \u001b[38;5;28;43mself\u001b[39;49m\u001b[43m[\u001b[49m\u001b[43mkey\u001b[49m\u001b[43m]\u001b[49m\n\u001b[0;32m   4288\u001b[0m     index \u001b[38;5;241m=\u001b[39m \u001b[38;5;28mself\u001b[39m\u001b[38;5;241m.\u001b[39mcolumns\n\u001b[0;32m   4289\u001b[0m \u001b[38;5;28;01melse\u001b[39;00m:\n",
      "File \u001b[1;32mc:\\Users\\ASUS\\AppData\\Local\\Programs\\Python\\Python312\\Lib\\site-packages\\pandas\\core\\frame.py:4102\u001b[0m, in \u001b[0;36mDataFrame.__getitem__\u001b[1;34m(self, key)\u001b[0m\n\u001b[0;32m   4100\u001b[0m \u001b[38;5;28;01mif\u001b[39;00m \u001b[38;5;28mself\u001b[39m\u001b[38;5;241m.\u001b[39mcolumns\u001b[38;5;241m.\u001b[39mnlevels \u001b[38;5;241m>\u001b[39m \u001b[38;5;241m1\u001b[39m:\n\u001b[0;32m   4101\u001b[0m     \u001b[38;5;28;01mreturn\u001b[39;00m \u001b[38;5;28mself\u001b[39m\u001b[38;5;241m.\u001b[39m_getitem_multilevel(key)\n\u001b[1;32m-> 4102\u001b[0m indexer \u001b[38;5;241m=\u001b[39m \u001b[38;5;28;43mself\u001b[39;49m\u001b[38;5;241;43m.\u001b[39;49m\u001b[43mcolumns\u001b[49m\u001b[38;5;241;43m.\u001b[39;49m\u001b[43mget_loc\u001b[49m\u001b[43m(\u001b[49m\u001b[43mkey\u001b[49m\u001b[43m)\u001b[49m\n\u001b[0;32m   4103\u001b[0m \u001b[38;5;28;01mif\u001b[39;00m is_integer(indexer):\n\u001b[0;32m   4104\u001b[0m     indexer \u001b[38;5;241m=\u001b[39m [indexer]\n",
      "File \u001b[1;32mc:\\Users\\ASUS\\AppData\\Local\\Programs\\Python\\Python312\\Lib\\site-packages\\pandas\\core\\indexes\\base.py:3812\u001b[0m, in \u001b[0;36mIndex.get_loc\u001b[1;34m(self, key)\u001b[0m\n\u001b[0;32m   3807\u001b[0m     \u001b[38;5;28;01mif\u001b[39;00m \u001b[38;5;28misinstance\u001b[39m(casted_key, \u001b[38;5;28mslice\u001b[39m) \u001b[38;5;129;01mor\u001b[39;00m (\n\u001b[0;32m   3808\u001b[0m         \u001b[38;5;28misinstance\u001b[39m(casted_key, abc\u001b[38;5;241m.\u001b[39mIterable)\n\u001b[0;32m   3809\u001b[0m         \u001b[38;5;129;01mand\u001b[39;00m \u001b[38;5;28many\u001b[39m(\u001b[38;5;28misinstance\u001b[39m(x, \u001b[38;5;28mslice\u001b[39m) \u001b[38;5;28;01mfor\u001b[39;00m x \u001b[38;5;129;01min\u001b[39;00m casted_key)\n\u001b[0;32m   3810\u001b[0m     ):\n\u001b[0;32m   3811\u001b[0m         \u001b[38;5;28;01mraise\u001b[39;00m InvalidIndexError(key)\n\u001b[1;32m-> 3812\u001b[0m     \u001b[38;5;28;01mraise\u001b[39;00m \u001b[38;5;167;01mKeyError\u001b[39;00m(key) \u001b[38;5;28;01mfrom\u001b[39;00m \u001b[38;5;21;01merr\u001b[39;00m\n\u001b[0;32m   3813\u001b[0m \u001b[38;5;28;01mexcept\u001b[39;00m \u001b[38;5;167;01mTypeError\u001b[39;00m:\n\u001b[0;32m   3814\u001b[0m     \u001b[38;5;66;03m# If we have a listlike key, _check_indexing_error will raise\u001b[39;00m\n\u001b[0;32m   3815\u001b[0m     \u001b[38;5;66;03m#  InvalidIndexError. Otherwise we fall through and re-raise\u001b[39;00m\n\u001b[0;32m   3816\u001b[0m     \u001b[38;5;66;03m#  the TypeError.\u001b[39;00m\n\u001b[0;32m   3817\u001b[0m     \u001b[38;5;28mself\u001b[39m\u001b[38;5;241m.\u001b[39m_check_indexing_error(key)\n",
      "\u001b[1;31mKeyError\u001b[0m: 'mark_score'"
     ]
    }
   ],
   "source": [
    "# همبستگی \n",
    "d1 = mark.loc[:179,\"mark_score\"]\n",
    "d2 =depression.loc[:179,\"depression_score\"]\n",
    "\n",
    "#print(f\"score1: {d1}\")\n",
    "#print(f\"score2: {d2}\")\n",
    "\n",
    "# محاسبه ضریب همبستگی\n",
    "correlation_coefficient, p_value = stats.pearsonr(d1, d2)\n",
    "\n",
    "# چاپ نتیجه\n",
    "print(\"ضریب همبستگی:\", correlation_coefficient)\n",
    "print(\"p-value:\", p_value)\n",
    "\n",
    "# بررسی معناداری\n",
    "alpha = 0.05  # سطح معناداری\n",
    "if p_value < alpha:\n",
    "    print(\"نتیجه: ضریب همبستگی معنادار است.\")\n",
    "else:\n",
    "    print(\"نتیجه: ضریب همبستگی معنادار نیست.\")"
   ]
  },
  {
   "cell_type": "code",
   "execution_count": 83,
   "metadata": {},
   "outputs": [
    {
     "name": "stdout",
     "output_type": "stream",
     "text": [
      "تفاوت میانگین: 0.2572670036357185\n",
      "فاصله اطمینان 95.0%: (0.09001940264618014, 0.4245146046252569)\n"
     ]
    }
   ],
   "source": [
    "#برآورد تفاوت میانگین ها\n",
    "d1= mark[\"mark_score\"]\n",
    "d2= depression[\"depression_score\"]\n",
    "# محاسبه میانگین و انحراف استاندارد\n",
    "mean1 = np.mean(d1)\n",
    "mean2 = np.mean(d2)\n",
    "std1 = np.std(d1)  \n",
    "std2 = np.std(d2)\n",
    "n1 = len(d1)\n",
    "n2 = len(d2)\n",
    "# محاسبه تفاوت میانگین\n",
    "mean_diff = mean1 - mean2\n",
    "# محاسبه خطای استاندارد تفاوت میانگین\n",
    "se_diff = np.sqrt((std1**2 / n1) + (std2**2 / n2))\n",
    "# تعیین سطح اطمینان\n",
    "confidence_level = 0.95\n",
    "alpha = 1 - confidence_level\n",
    "critical_value = stats.t.ppf(1 - alpha/2, df=n1 + n2 - 2)\n",
    "# محاسبه فاصله اطمینان\n",
    "margin_of_error = critical_value * se_diff\n",
    "ci_lower = mean_diff - margin_of_error\n",
    "ci_upper = mean_diff + margin_of_error\n",
    "print(f\"تفاوت میانگین: {mean_diff}\")\n",
    "print(f\"فاصله اطمینان {confidence_level*100}%: ({ci_lower}, {ci_upper})\")\n"
   ]
  }
 ],
 "metadata": {
  "kernelspec": {
   "display_name": "Python 3",
   "language": "python",
   "name": "python3"
  },
  "language_info": {
   "codemirror_mode": {
    "name": "ipython",
    "version": 3
   },
   "file_extension": ".py",
   "mimetype": "text/x-python",
   "name": "python",
   "nbconvert_exporter": "python",
   "pygments_lexer": "ipython3",
   "version": "3.12.5"
  }
 },
 "nbformat": 4,
 "nbformat_minor": 2
}
